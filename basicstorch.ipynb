{
  "nbformat": 4,
  "nbformat_minor": 0,
  "metadata": {
    "colab": {
      "provenance": [],
      "authorship_tag": "ABX9TyMDsnhSmDjK+XwFbuD9giwN",
      "include_colab_link": true
    },
    "kernelspec": {
      "name": "python3",
      "display_name": "Python 3"
    },
    "language_info": {
      "name": "python"
    }
  },
  "cells": [
    {
      "cell_type": "markdown",
      "metadata": {
        "id": "view-in-github",
        "colab_type": "text"
      },
      "source": [
        "<a href=\"https://colab.research.google.com/github/being3iimed/pytorchjourney/blob/main/basicstorch.ipynb\" target=\"_parent\"><img src=\"https://colab.research.google.com/assets/colab-badge.svg\" alt=\"Open In Colab\"/></a>"
      ]
    },
    {
      "cell_type": "markdown",
      "source": [
        "# **Basics PyTorch**"
      ],
      "metadata": {
        "id": "OQhd3C77MCbQ"
      }
    },
    {
      "cell_type": "code",
      "source": [
        "import torch"
      ],
      "metadata": {
        "id": "nuHn5UGzcVJR"
      },
      "execution_count": 3,
      "outputs": []
    },
    {
      "cell_type": "code",
      "source": [
        "# A scalar (0-dimensional tensor)\n",
        "scalar = torch.tensor(5)\n",
        "\n",
        "# 4. same as 4.0 used to indicated floating point number\n",
        "t1 = torch.tensor(4.)\n",
        "print(\"type:\", t1.dtype)\n",
        "print(\"size:\", t1.shape)"
      ],
      "metadata": {
        "id": "TNNy4W2Lezvo"
      },
      "execution_count": null,
      "outputs": []
    },
    {
      "cell_type": "code",
      "source": [
        "\"\"\"\n",
        "we can  indicate the type for the entered value like this\n",
        "t1 = torch.tensor(4, dtype=float)\n",
        "\"\"\"\n",
        "t1 = torch.tensor(2, dtype=torch.float32)\n",
        "t1.dtype"
      ],
      "metadata": {
        "id": "YgCh1j0df1Dc"
      },
      "execution_count": null,
      "outputs": []
    },
    {
      "cell_type": "code",
      "source": [
        "# A vector (1-dimensional tensor)\n",
        "vector = torch.tensor([1, 2, 3])\n",
        "t2 = torch.tensor([1, 2, 3, 9.]) # a vector of float\n",
        "print(\"type:\", t2.dtype)\n",
        "print(\"size:\", t2.shape)"
      ],
      "metadata": {
        "id": "D5ctvvM_fSpN"
      },
      "execution_count": null,
      "outputs": []
    },
    {
      "cell_type": "code",
      "source": [
        "# A matrix (2-dimensional tensor)\n",
        "matrix = torch.tensor([[1, 2], [3, 4]])"
      ],
      "metadata": {
        "id": "ZQbNIDhUfvbB"
      },
      "execution_count": null,
      "outputs": []
    },
    {
      "cell_type": "code",
      "source": [
        "# 3x2 matrix filled with zeros\n",
        "z = torch.zeros(3, 2)\n",
        "print(z)\n",
        "print(z.dtype)\n",
        "\n",
        "# 5x3 matrix filled with ones\n",
        "ones = torch.ones((2, 3), dtype=torch.float32)\n",
        "print(ones)"
      ],
      "metadata": {
        "id": "8kGkQ7tGmaWf"
      },
      "execution_count": null,
      "outputs": []
    },
    {
      "cell_type": "code",
      "source": [
        "# A 3-dimensional tensor\n",
        "tensor3d = torch.rand(2, 3, 4)  # Random values in a 2x3x4 tensor\n",
        "print(tensor3d)\n",
        "\n",
        "# a 2-dimensional array/tensor\n",
        "\"\"\"\n",
        "The tensors must be correctly shaped,\n",
        "meaning the matrices within an n-dimensional array must align with the row length of that array.\n",
        "\"\"\"\n",
        "t4 = torch.tensor([\n",
        "                [[1, 3],\n",
        "                 [0, 6],\n",
        "                 [2, 1]],\n",
        "                [[1, 3],\n",
        "                 [2, 1],\n",
        "                 [0, 6]]])\n",
        "print(t4.dtype)\n",
        "print(t4.shape) # size of it, basically number of D for the created tensor\n",
        "t4\n"
      ],
      "metadata": {
        "id": "kpFwSF3XQUTA"
      },
      "execution_count": null,
      "outputs": []
    },
    {
      "cell_type": "code",
      "source": [
        "\"\"\"\n",
        "'torch.manual_seed()'\n",
        "\n",
        "Random weight initialization is essential for effective training in neural networks,\n",
        "while using a seed makes these random processes reproducible,\n",
        "ensuring consistent results across multiple runs of the same experiment.\n",
        "\"\"\"\n",
        "torch.manual_seed(42)\n",
        "\"\"\"\n",
        "42 here is arbitrary, and any integer (e.g., 0, 1234, 2024)\n",
        "would serve the same purpose. As long as the seed value is the same across run.\n",
        "\"\"\"\n",
        "rand1 = torch.rand(2, 4)\n",
        "rand2 = torch.rand(2, 4)\n",
        "\n",
        "torch.manual_seed(42)\n",
        "rand3 = torch.rand(2, 4)\n",
        "rand4 = torch.rand(2, 4)\n",
        "\n",
        "rand1, rand2, rand3, rand4"
      ],
      "metadata": {
        "colab": {
          "base_uri": "https://localhost:8080/"
        },
        "id": "k1nqVon46HSw",
        "outputId": "d2b499a9-e52f-42a5-f58f-d02bacb71c75"
      },
      "execution_count": 83,
      "outputs": [
        {
          "output_type": "execute_result",
          "data": {
            "text/plain": [
              "(tensor([[0.3126, 0.3791, 0.3087, 0.0736],\n",
              "         [0.4216, 0.0691, 0.2332, 0.4047]]),\n",
              " tensor([[0.2162, 0.9927, 0.4128, 0.5938],\n",
              "         [0.6128, 0.1519, 0.0453, 0.5035]]),\n",
              " tensor([[0.3126, 0.3791, 0.3087, 0.0736],\n",
              "         [0.4216, 0.0691, 0.2332, 0.4047]]),\n",
              " tensor([[0.2162, 0.9927, 0.4128, 0.5938],\n",
              "         [0.6128, 0.1519, 0.0453, 0.5035]]))"
            ]
          },
          "metadata": {},
          "execution_count": 83
        }
      ]
    },
    {
      "cell_type": "markdown",
      "source": [
        "Tensor Operations"
      ],
      "metadata": {
        "id": "iZJaQNFQpxqX"
      }
    },
    {
      "cell_type": "code",
      "source": [
        "a = torch.tensor([1, 5, 4, 6])\n",
        "b = torch.tensor([6, 2, 1, 0])\n",
        "\n",
        "# Element-wise addition\n",
        "c = a  + b\n",
        "c"
      ],
      "metadata": {
        "id": "6P-d5SBqp1Tk"
      },
      "execution_count": null,
      "outputs": []
    },
    {
      "cell_type": "code",
      "source": [
        "ones = torch.ones(2, 3)\n",
        "print(ones)\n",
        "twos = torch.ones(2, 3) * 2\n",
        "print(twos)\n",
        "\n",
        "#The size of tensor a (4) must match the size of tensor b\n",
        "threes = ones + twos\n",
        "print(threes)"
      ],
      "metadata": {
        "id": "uH63D3GtwyDL"
      },
      "execution_count": null,
      "outputs": []
    },
    {
      "cell_type": "code",
      "source": [
        "ones = torch.zeros(2, 2) + 1\n",
        "twos = torch.ones(2, 2) * 2\n",
        "threes = (torch.ones(2, 2) * 7 - 1) / 2\n",
        "fours = twos ** 2\n",
        "sqrt2s = twos ** 0.5\n",
        "\n",
        "print(ones)\n",
        "print(twos)\n",
        "print(threes)\n",
        "print(fours)\n",
        "print(sqrt2s)"
      ],
      "metadata": {
        "colab": {
          "base_uri": "https://localhost:8080/"
        },
        "id": "4k76gjgC9QLU",
        "outputId": "726ac929-41c3-4a32-f1bd-09d600f641e0"
      },
      "execution_count": 5,
      "outputs": [
        {
          "output_type": "stream",
          "name": "stdout",
          "text": [
            "tensor([[1., 1.],\n",
            "        [1., 1.]])\n",
            "tensor([[1., 1.],\n",
            "        [1., 1.]])\n",
            "tensor([[3., 3.],\n",
            "        [3., 3.]])\n",
            "tensor([[1., 1.],\n",
            "        [1., 1.]])\n",
            "tensor([[1., 1.],\n",
            "        [1., 1.]])\n"
          ]
        }
      ]
    },
    {
      "cell_type": "code",
      "source": [
        "# Dot product\n",
        "\"\"\"\n",
        "NOTE: Dot product takes two equal-length sequences of numbers\n",
        "(usually coordinate vectors or sequences of numbers), and returns a single number.\n",
        "\"\"\"\n",
        "dot_product = torch.dot(a, b)\n",
        "dot_product"
      ],
      "metadata": {
        "id": "tTJAJ6V4qSY0"
      },
      "execution_count": null,
      "outputs": []
    },
    {
      "cell_type": "code",
      "source": [
        "# Matrix multiplication\n",
        "A = torch.rand(2, 3)\n",
        "B = torch.rand(3, 2)\n",
        "matmul = torch.mm(A, B)\n",
        "matmul"
      ],
      "metadata": {
        "id": "wKfWhauiqubQ"
      },
      "execution_count": null,
      "outputs": []
    },
    {
      "cell_type": "code",
      "source": [
        "# common functions\n",
        "a = torch.rand(2, 4) * 2 - 1\n",
        "print('Common functions:')\n",
        "print(torch.abs(a))\n",
        "print(torch.ceil(a))\n",
        "print(torch.floor(a))\n",
        "print(torch.clamp(a, -0.5, 0.5))"
      ],
      "metadata": {
        "colab": {
          "base_uri": "https://localhost:8080/"
        },
        "id": "pnTTCFEsqHL2",
        "outputId": "c787434e-0d8b-457c-e67c-d2702f061794"
      },
      "execution_count": 4,
      "outputs": [
        {
          "output_type": "stream",
          "name": "stdout",
          "text": [
            "Common functions:\n",
            "tensor([[0.9031, 0.8921, 0.2652, 0.5969],\n",
            "        [0.4200, 0.2885, 0.0418, 0.1587]])\n",
            "tensor([[1., -0., 1., 1.],\n",
            "        [-0., 1., -0., 1.]])\n",
            "tensor([[ 0., -1.,  0.,  0.],\n",
            "        [-1.,  0., -1.,  0.]])\n",
            "tensor([[ 0.5000, -0.5000,  0.2652,  0.5000],\n",
            "        [-0.4200,  0.2885, -0.0418,  0.1587]])\n"
          ]
        }
      ]
    },
    {
      "cell_type": "markdown",
      "source": [
        "Autograd (Automatic Differentiation) / derivatives"
      ],
      "metadata": {
        "id": "xjomy7nVtXAa"
      }
    },
    {
      "cell_type": "code",
      "source": [
        "x = torch.tensor(2.)\n",
        "y = torch.tensor(3., requires_grad=True)\n",
        "z = torch.tensor(4.5, requires_grad=True)\n",
        "x, y, z"
      ],
      "metadata": {
        "id": "9ykToABOsN4x"
      },
      "execution_count": null,
      "outputs": []
    },
    {
      "cell_type": "code",
      "source": [
        "# Arithmetic operations\n",
        "r = x + y * z\n",
        "\n",
        "#compute the derivatives/gradient, we can call the .backward\n",
        "r.backward()"
      ],
      "metadata": {
        "id": "4ekLD9QfuB0v"
      },
      "execution_count": null,
      "outputs": []
    },
    {
      "cell_type": "code",
      "source": [
        "# Display gradients\n",
        "print('dr/dx:', x.grad)\n",
        "print('dr/dy:', y.grad)\n",
        "print('dr/dz:', z.grad)"
      ],
      "metadata": {
        "id": "vfALVwW5uSoG"
      },
      "execution_count": null,
      "outputs": []
    },
    {
      "cell_type": "code",
      "source": [
        "x = torch.tensor(2.0, requires_grad=True)\n",
        "y = x ** 2\n",
        "y.backward()  # Compute gradients\n",
        "\n",
        "print(x.grad)  # Gradient of y with respect to x"
      ],
      "metadata": {
        "id": "mUNGEACKv155"
      },
      "execution_count": null,
      "outputs": []
    }
  ]
}